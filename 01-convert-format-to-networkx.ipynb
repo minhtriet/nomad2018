{
 "cells": [
  {
   "cell_type": "markdown",
   "id": "9e26106b",
   "metadata": {},
   "source": [
    "- Input: All structure files\n",
    "- Output: A dict of Networkx"
   ]
  },
  {
   "cell_type": "code",
   "execution_count": 5,
   "id": "d9834a45",
   "metadata": {
    "ExecuteTime": {
     "end_time": "2021-12-19T10:32:17.307216Z",
     "start_time": "2021-12-19T10:32:17.276664Z"
    },
    "execution": {
     "iopub.execute_input": "2022-04-25T16:51:23.320794Z",
     "iopub.status.busy": "2022-04-25T16:51:23.320386Z",
     "iopub.status.idle": "2022-04-25T16:51:23.496939Z",
     "shell.execute_reply": "2022-04-25T16:51:23.495917Z",
     "shell.execute_reply.started": "2022-04-25T16:51:23.320750Z"
    },
    "tags": []
   },
   "outputs": [],
   "source": [
    "from glob import glob\n",
    "from tqdm.notebook import tqdm"
   ]
  },
  {
   "cell_type": "code",
   "execution_count": 6,
   "id": "b6cb502c",
   "metadata": {
    "ExecuteTime": {
     "end_time": "2021-12-19T10:32:17.362964Z",
     "start_time": "2021-12-19T10:32:17.314126Z"
    },
    "execution": {
     "iopub.execute_input": "2022-04-25T16:51:24.932889Z",
     "iopub.status.busy": "2022-04-25T16:51:24.932460Z",
     "iopub.status.idle": "2022-04-25T16:51:24.943996Z",
     "shell.execute_reply": "2022-04-25T16:51:24.942598Z",
     "shell.execute_reply.started": "2022-04-25T16:51:24.932838Z"
    },
    "tags": []
   },
   "outputs": [],
   "source": [
    "structure = glob(\"test/*\")"
   ]
  },
  {
   "cell_type": "code",
   "execution_count": 7,
   "id": "aff15b34",
   "metadata": {
    "ExecuteTime": {
     "end_time": "2021-12-22T20:44:48.171208Z",
     "start_time": "2021-12-22T20:44:29.952799Z"
    },
    "execution": {
     "iopub.execute_input": "2022-04-25T16:51:25.504907Z",
     "iopub.status.busy": "2022-04-25T16:51:25.504572Z",
     "iopub.status.idle": "2022-04-25T16:51:30.277302Z",
     "shell.execute_reply": "2022-04-25T16:51:30.276106Z",
     "shell.execute_reply.started": "2022-04-25T16:51:25.504825Z"
    },
    "tags": []
   },
   "outputs": [
    {
     "data": {
      "application/vnd.jupyter.widget-view+json": {
       "model_id": "9508976bfed546cf9fdf47443e660139",
       "version_major": 2,
       "version_minor": 0
      },
      "text/plain": [
       "  0%|          | 0/600 [00:00<?, ?it/s]"
      ]
     },
     "metadata": {},
     "output_type": "display_data"
    }
   ],
   "source": [
    "# Create temp file\n",
    "for filename in tqdm(structure):\n",
    "    with open(f\"{filename}/_geometry.xyz\", 'w') as g:\n",
    "        with open(f\"{filename}/geometry.xyz\") as f:\n",
    "            lines_after_6 = f.readlines()[6:]\n",
    "            # remove \n",
    "            # #=======================================================\n",
    "            # #Created using the Atomic Simulation Environment (ASE)\n",
    "            # #=======================================================\n",
    "            # lattice_vector . . . \n",
    "            # lattice_vector . . . \n",
    "            # lattice_vector . . . \n",
    "            g.write(f\"{len(lines_after_6)}\\n\")\n",
    "            for line in lines_after_6:\n",
    "                _, x, y, z, atom = line.split(' ')\n",
    "                g.write(f\"{atom} {x} {y} {z}\\n\")"
   ]
  },
  {
   "cell_type": "code",
   "execution_count": 8,
   "id": "efe09ff1",
   "metadata": {
    "ExecuteTime": {
     "end_time": "2021-12-22T20:44:48.196439Z",
     "start_time": "2021-12-22T20:44:48.175235Z"
    },
    "execution": {
     "iopub.execute_input": "2022-04-25T16:51:33.782832Z",
     "iopub.status.busy": "2022-04-25T16:51:33.782412Z",
     "iopub.status.idle": "2022-04-25T16:51:33.798680Z",
     "shell.execute_reply": "2022-04-25T16:51:33.796757Z",
     "shell.execute_reply.started": "2022-04-25T16:51:33.782778Z"
    },
    "tags": []
   },
   "outputs": [
    {
     "data": {
      "text/plain": [
       "'test/135'"
      ]
     },
     "execution_count": 8,
     "metadata": {},
     "output_type": "execute_result"
    }
   ],
   "source": [
    "structure[0]"
   ]
  },
  {
   "cell_type": "code",
   "execution_count": 9,
   "id": "777e9fe6",
   "metadata": {
    "ExecuteTime": {
     "end_time": "2021-12-22T20:45:09.630688Z",
     "start_time": "2021-12-22T20:44:56.847045Z"
    },
    "execution": {
     "iopub.execute_input": "2022-04-25T16:51:50.250799Z",
     "iopub.status.busy": "2022-04-25T16:51:50.250417Z",
     "iopub.status.idle": "2022-04-25T16:51:57.520463Z",
     "shell.execute_reply": "2022-04-25T16:51:57.519374Z",
     "shell.execute_reply.started": "2022-04-25T16:51:50.250757Z"
    },
    "tags": []
   },
   "outputs": [
    {
     "data": {
      "application/vnd.jupyter.widget-view+json": {
       "model_id": "e5e2b82f22704c20947f2d8f064778a7",
       "version_major": 2,
       "version_minor": 0
      },
      "text/plain": [
       "  0%|          | 0/600 [00:00<?, ?it/s]"
      ]
     },
     "metadata": {},
     "output_type": "display_data"
    }
   ],
   "source": [
    "import pickle\n",
    "from xyz2graph import MolGraph, to_networkx_graph\n",
    "\n",
    "dict_mol = {}\n",
    "for filename in tqdm(structure):\n",
    "    mg = MolGraph()\n",
    "    # Read the data from the .xyz file\n",
    "    mg.read_xyz(f\"{filename}/_geometry.xyz\")\n",
    "    G = to_networkx_graph(mg)\n",
    "    dict_mol[int(filename.split('/')[1])] = G"
   ]
  },
  {
   "cell_type": "code",
   "execution_count": 10,
   "id": "311308d9",
   "metadata": {
    "ExecuteTime": {
     "end_time": "2021-12-22T20:45:10.007194Z",
     "start_time": "2021-12-22T20:45:09.633262Z"
    },
    "execution": {
     "iopub.execute_input": "2022-04-25T16:52:00.588290Z",
     "iopub.status.busy": "2022-04-25T16:52:00.587863Z",
     "iopub.status.idle": "2022-04-25T16:52:00.691906Z",
     "shell.execute_reply": "2022-04-25T16:52:00.690707Z",
     "shell.execute_reply.started": "2022-04-25T16:52:00.588244Z"
    },
    "tags": []
   },
   "outputs": [],
   "source": [
    "with open('test_struct.pickle', 'wb') as f:\n",
    "    pickle.dump(dict_mol, f)"
   ]
  }
 ],
 "metadata": {
  "kernelspec": {
   "display_name": "Python 3",
   "language": "python",
   "name": "python3"
  },
  "language_info": {
   "codemirror_mode": {
    "name": "ipython",
    "version": 3
   },
   "file_extension": ".py",
   "mimetype": "text/x-python",
   "name": "python",
   "nbconvert_exporter": "python",
   "pygments_lexer": "ipython3",
   "version": "3.7.9"
  }
 },
 "nbformat": 4,
 "nbformat_minor": 5
}