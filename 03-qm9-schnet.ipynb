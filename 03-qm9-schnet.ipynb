{
 "cells": [
  {
   "cell_type": "code",
   "execution_count": null,
   "id": "135b63e4-d03c-4322-8749-69839cbed596",
   "metadata": {
    "execution": {
     "iopub.execute_input": "2022-06-27T21:35:56.967743Z",
     "iopub.status.busy": "2022-06-27T21:35:56.964680Z"
    },
    "tags": []
   },
   "outputs": [],
   "source": [
    "#from torch_geometric.datasets import QM9\n",
    "import pickle\n",
    "import pandas as pd"
   ]
  },
  {
   "cell_type": "code",
   "execution_count": null,
   "id": "a605e80f-62f8-4009-8d3b-1e2a1e1d60b3",
   "metadata": {
    "tags": []
   },
   "outputs": [],
   "source": [
    "from tqdm.notebook import tqdm, trange"
   ]
  },
  {
   "cell_type": "code",
   "execution_count": null,
   "id": "83c18374-6e57-4261-904f-bdccaf9285f3",
   "metadata": {
    "execution": {
     "iopub.execute_input": "2022-06-27T21:37:14.735948Z",
     "iopub.status.busy": "2022-06-27T21:37:14.735456Z"
    },
    "tags": []
   },
   "outputs": [],
   "source": [
    "import torch\n",
    "torch.manual_seed(3)\n",
    "from torch_geometric.nn import SchNet"
   ]
  },
  {
   "cell_type": "code",
   "execution_count": null,
   "id": "2a0cccb0-fc00-4c10-a677-aa641a58cda6",
   "metadata": {
    "tags": []
   },
   "outputs": [],
   "source": [
    "from torch_geometric.loader import DataLoader\n",
    "from torch_geometric.nn import MessagePassing, radius_graph\n",
    "from torch.nn import Embedding, Linear, ModuleList, Sequential, MSELoss"
   ]
  },
  {
   "cell_type": "code",
   "execution_count": null,
   "id": "55e4b092-4f6a-49e7-86fb-805fcd25f013",
   "metadata": {
    "tags": []
   },
   "outputs": [],
   "source": [
    "with open(\"train_struct_pyg.pickle\", 'rb') as f:\n",
    "    dataset = pickle.load(f)"
   ]
  },
  {
   "cell_type": "code",
   "execution_count": null,
   "id": "03a9b997-b3e8-4b58-95c1-26401290cf44",
   "metadata": {
    "tags": []
   },
   "outputs": [],
   "source": [
    "import random\n",
    "\n",
    "random.seed(34)"
   ]
  },
  {
   "cell_type": "code",
   "execution_count": null,
   "id": "8f521f8c-735b-4775-b411-890609e89788",
   "metadata": {
    "tags": []
   },
   "outputs": [],
   "source": [
    "formation_energys = [i.formation_energy_ev_natom for i in dataset]"
   ]
  },
  {
   "cell_type": "code",
   "execution_count": null,
   "id": "96067f7f-3251-4820-9cfa-65ca7ce2e625",
   "metadata": {
    "tags": []
   },
   "outputs": [],
   "source": [
    "min(formation_energys)"
   ]
  },
  {
   "cell_type": "code",
   "execution_count": null,
   "id": "6eccf2ea-0fc7-4655-bf3b-9e0606251f53",
   "metadata": {
    "tags": []
   },
   "outputs": [],
   "source": [
    "def train(target_field: str = 'bandgap_energy_ev'):\n",
    "    \"\"\"\n",
    "    target_field = ['formation_energy_ev_natom', 'bandgap_energy_ev']\n",
    "    \"\"\"\n",
    "    import pdb; pdb.set_trace()\n",
    "    schnet = SchNet()\n",
    "    mseloss = MSELoss()\n",
    "    optimizer = torch.optim.Adam(schnet.parameters(), lr=1e-3, weight_decay=5e-4)\n",
    "    train_data = dataset[:2000]\n",
    "    val_data = dataset[2001:]\n",
    "    for epoch in range(5):\n",
    "        schnet.train(True)\n",
    "        random.shuffle(train_data)\n",
    "        train_losses = []\n",
    "        for data in tqdm(train_data, desc=\"Train\"):    \n",
    "            optimizer.zero_grad()\n",
    "            out = schnet(data.z, data.xyz)\n",
    "            loss = mseloss(out, torch.FloatTensor([data[target_field]]))\n",
    "            loss.backward()\n",
    "            optimizer.step()\n",
    "            train_losses.append(loss)\n",
    "        print(f\"Train loss: {torch.mean(torch.stack(train_losses), dim=0)}\")\n",
    "        schnet.train(False)\n",
    "        val_losses = []\n",
    "        for data in tqdm(val_data, desc=\"Test\"):\n",
    "            out = schnet(data.z, data.xyz)\n",
    "            loss = mseloss(out,torch.FloatTensor([data[target_field]]))\n",
    "            val_losses.append(loss)\n",
    "        print(f\"Val loss: {torch.mean(torch.stack(val_losses), dim=0)}\")\n",
    "        torch.save(schnet, f\"{target_field}/schnet_epoch_{epoch}\")"
   ]
  },
  {
   "cell_type": "markdown",
   "id": "8e8da675-4bfd-48e4-a3ca-8a3b1707a054",
   "metadata": {},
   "source": [
    "## `bandgap_energy_ev`"
   ]
  },
  {
   "cell_type": "code",
   "execution_count": null,
   "id": "ac9b7c28-7922-449f-b2a3-2c48a971acea",
   "metadata": {
    "tags": []
   },
   "outputs": [],
   "source": [
    "train('formation_energy_ev_natom')"
   ]
  },
  {
   "cell_type": "code",
   "execution_count": null,
   "id": "9a9502a4-0d9e-4c3a-8c3c-9e81cb68e990",
   "metadata": {},
   "outputs": [],
   "source": [
    "train('bandgap_energy_ev')"
   ]
  },
  {
   "cell_type": "code",
   "execution_count": null,
   "id": "fa281d86-8aee-40f5-bc3f-8b12d3f36d61",
   "metadata": {
    "tags": []
   },
   "outputs": [],
   "source": [
    "# todo prunning\n",
    "\n",
    "config = {\n",
    "    \"hidden_channels\": tune.randint(64, 256),\n",
    "    \"num_filters\": tune.randint(64, 256),\n",
    "    \"num_interactions\": tune.randint(4, 16),    \n",
    "    \"momentum\": tune.uniform(0.1, 0.9),\n",
    "    \"num_gaussians\": tune.randint(16,64),\n",
    "    \"cutoff\": tune.uniform(1., 16.) \n",
    "}\n",
    "\n",
    "scheduler = ASHAScheduler(\n",
    "        max_t=16,\n",
    "        grace_period=1,\n",
    "        reduction_factor=2)\n",
    "\n",
    "result = tune.run(\n",
    "    tune.with_parameters(train),\n",
    "    resources_per_trial={\"cpu\": 1},\n",
    "    config=config,\n",
    "    metric=\"loss\",\n",
    "    mode=\"min\",\n",
    "    num_samples=num_samples,\n",
    "    scheduler=scheduler\n",
    ")\n"
   ]
  },
  {
   "cell_type": "markdown",
   "id": "32dc9710-3e92-471b-b9f6-afd3f68e3a3e",
   "metadata": {},
   "source": [
    "- hidden_channels: int = 128, \n",
    "- num_filters: int = 128,               \n",
    "- num_interactions: int = 6, \n",
    "- num_gaussians: int = 50,\n",
    "- cutoff: float = 10.0, \n",
    "- max_num_neighbors: int = 32,\n",
    "- readout: str = 'add', or 'mean'\n",
    "- dipole: bool = False,\n",
    "- mean: Optional[float] = None  The mean of the property to predict\n",
    "- std: Optional[float] = None  The std of the property to predict"
   ]
  },
  {
   "cell_type": "markdown",
   "id": "a208c8cc-c46d-4e5e-a8a6-c0d373e3c265",
   "metadata": {},
   "source": [
    "## Load model and run test"
   ]
  },
  {
   "cell_type": "code",
   "execution_count": null,
   "id": "2c8e184f-109d-4da3-bfc9-6fb990997c73",
   "metadata": {
    "tags": []
   },
   "outputs": [],
   "source": [
    "with open(\"test_struct_pyg.pickle\", 'rb') as f:\n",
    "    test = pickle.load(f)\n",
    "len(test)"
   ]
  },
  {
   "cell_type": "code",
   "execution_count": null,
   "id": "6fea1eda-0175-4b46-a754-c9eb61daebec",
   "metadata": {
    "tags": []
   },
   "outputs": [],
   "source": [
    "filename_bandgap_energy_ev = 'bandgap_energy_ev/schnet_epoch_3'\n",
    "filename_formation_energy_ev_natom = 'formation_energy_ev_natom/schnet_epoch_3'"
   ]
  },
  {
   "cell_type": "code",
   "execution_count": null,
   "id": "9cc8f514-81c9-415d-82ff-b48080ac696e",
   "metadata": {
    "tags": []
   },
   "outputs": [],
   "source": [
    "with open(filename_bandgap_energy_ev, 'rb') as f:\n",
    "    model = torch.load(f)\n",
    "\n",
    "bandgap_energy_ev = []\n",
    "for data in tqdm(test):\n",
    "    bandgap_energy_ev.append(model(data.z, data.xyz).item())"
   ]
  },
  {
   "cell_type": "code",
   "execution_count": null,
   "id": "646fc939-1d97-4fe1-84e3-34acf1eea63d",
   "metadata": {
    "tags": []
   },
   "outputs": [],
   "source": [
    "with open(filename_formation_energy_ev_natom, 'rb') as f:\n",
    "    model = torch.load(f)\n",
    "\n",
    "formation_energy_ev_natom = []\n",
    "for data in tqdm(test):\n",
    "    formation_energy_ev_natom.append(model(data.z, data.xyz).item())"
   ]
  },
  {
   "cell_type": "code",
   "execution_count": null,
   "id": "aa5713a7-e442-4304-9331-746f75bbeffd",
   "metadata": {
    "tags": []
   },
   "outputs": [],
   "source": [
    "test_df = pd.read_csv(\"test.csv\")"
   ]
  },
  {
   "cell_type": "code",
   "execution_count": null,
   "id": "b5117d22-f6c8-43d6-84b4-741dcdd514de",
   "metadata": {
    "tags": []
   },
   "outputs": [],
   "source": [
    "test_df['bandgap_energy_ev'] = bandgap_energy_ev\n",
    "test_df['formation_energy_ev_natom'] = formation_energy_ev_natom"
   ]
  },
  {
   "cell_type": "code",
   "execution_count": null,
   "id": "0075d888-20c4-4920-9aae-5e4a189689ef",
   "metadata": {
    "tags": []
   },
   "outputs": [],
   "source": [
    "test_df = test_df[['id', 'bandgap_energy_ev', 'formation_energy_ev_natom']]"
   ]
  },
  {
   "cell_type": "code",
   "execution_count": null,
   "id": "e567f7c5-6db3-4911-b764-2a5b1436dbd2",
   "metadata": {
    "tags": []
   },
   "outputs": [],
   "source": [
    "test_df = test_df.clip(lower=0)"
   ]
  },
  {
   "cell_type": "code",
   "execution_count": null,
   "id": "40d082b6-fa13-40a6-9195-7a26c86c1c28",
   "metadata": {
    "tags": []
   },
   "outputs": [],
   "source": [
    "test_df.to_csv(\"answer.csv\", index=False)"
   ]
  }
 ],
 "metadata": {
  "kernelspec": {
   "display_name": "Python 3",
   "language": "python",
   "name": "python3"
  },
  "language_info": {
   "codemirror_mode": {
    "name": "ipython",
    "version": 3
   },
   "file_extension": ".py",
   "mimetype": "text/x-python",
   "name": "python",
   "nbconvert_exporter": "python",
   "pygments_lexer": "ipython3",
   "version": "3.7.9"
  }
 },
 "nbformat": 4,
 "nbformat_minor": 5
}
